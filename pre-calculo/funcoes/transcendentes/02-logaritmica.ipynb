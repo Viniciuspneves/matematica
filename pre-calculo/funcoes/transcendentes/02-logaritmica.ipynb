{
 "cells": [
  {
   "cell_type": "markdown",
   "id": "2d67cc2d",
   "metadata": {},
   "source": [
    "# O que é uma Função Logarítmica?\n",
    "\n",
    "A **função logarítmica** é a função **inversa** da função exponencial. Enquanto a função exponencial responde \"qual o resultado de $a$ elevado a $x$?\", a função logarítmica responde \"a qual potência devemos elevar a base $a$ para obter $x$?\".\n",
    "\n",
    "Sua forma geral é:\n",
    "\n",
    "$$\n",
    "f(x) = \\log_a(x)\n",
    "$$\n",
    "\n",
    "Onde:\n",
    "- $a$ é a **base** do logaritmo. É uma constante real **positiva** e **diferente de 1** ($a > 0$ e $a \\neq 1$).\n",
    "- $x$ é o **logaritmando** ou argumento da função. Deve ser sempre um número real **positivo** ($x > 0$).\n",
    "\n",
    "A relação com a função exponencial é:\n",
    "\n",
    "$$\n",
    "y = \\log_a(x) \\quad \\iff \\quad a^y = x\n",
    "$$\n",
    "\n",
    "---\n",
    "\n",
    "## Como ela é escrita?\n",
    "\n",
    "A forma padrão da função logarítmica é:\n",
    "\n",
    "$$\n",
    "f(x) = \\log_a(x)\n",
    "$$\n",
    "\n",
    "- $a$: **base do logaritmo**. Determina a forma e a velocidade com que a função cresce ou decresce. As bases mais comuns são 10 (logaritmo decimal, frequentemente escrito como $\\log(x)$) e a base $e$ (aproximadamente 2.71828..., logaritmo natural, escrito como $\\ln(x)$).\n",
    "- $x$: **logaritmando** ou **argumento**. É o número do qual queremos \"descobrir\" o expoente. **Sempre positivo**.\n",
    "\n",
    "### Exemplo:\n",
    "\n",
    "Se $f(x) = \\log_2(x)$, a base é $a=2$.\n",
    "\n",
    "Calculando alguns pontos (lembre-se: $\\log_2(x) = y \\iff 2^y = x$):\n",
    "\n",
    "- $f(1) = \\log_2(1) = 0$ (pois $2^0 = 1$)\n",
    "- $f(2) = \\log_2(2) = 1$ (pois $2^1 = 2$)\n",
    "- $f(4) = \\log_2(4) = 2$ (pois $2^2 = 4$)\n",
    "- $f(8) = \\log_2(8) = 3$ (pois $2^3 = 8$)\n",
    "- $f(0.5) = f(1/2) = \\log_2(1/2) = -1$ (pois $2^{-1} = 1/2$)\n",
    "\n",
    "---\n",
    "\n",
    "## Características\n",
    "\n",
    "- **Domínio**: Apenas os **números reais estritamente positivos** ($\\mathbb{R}_{>0}$ ou $(0, +\\infty)$). O argumento $x$ *nunca* pode ser zero ou negativo.\n",
    "- **Imagem (Contradomínio)**: Todos os **números reais** ($\\mathbb{R}$).\n",
    "- **Gráfico**: Uma **curva contínua**, sempre **crescente** ou sempre **decrescente**. Possui uma **assíntota vertical**.\n",
    "- **Inversa da Exponencial**: O gráfico de $f(x) = \\log_a(x)$ é o reflexo do gráfico de $g(x) = a^x$ em relação à reta $y=x$.\n",
    "\n",
    "### Comportamento:\n",
    "\n",
    "- Se $a > 1$: a função é **sempre crescente**. O crescimento é rápido para $x$ próximos de zero e se torna cada vez mais lento à medida que $x$ aumenta.\n",
    "- Se $0 < a < 1$: a função é **sempre decrescente**. O decaimento é rápido para $x$ próximos de zero e se torna cada vez mais lento à medida que $x$ aumenta.\n",
    "\n",
    "### Raízes:\n",
    "\n",
    "A função logarítmica básica $f(x) = \\log_a(x)$ possui **exatamente uma raiz real**.\n",
    "\n",
    "- A raiz ocorre em $x = 1$, pois $\\log_a(1) = 0$ para qualquer base $a > 0, a \\neq 1$. O gráfico sempre cruza o eixo $x$ no ponto $(1, 0)$.\n",
    "\n",
    "---\n",
    "\n",
    "## E o gráfico?\n",
    "\n",
    "O gráfico da função logarítmica é uma **curva suave e contínua** que se estende apenas para $x > 0$.\n",
    "\n",
    "- **Não possui máximos ou mínimos locais**.\n",
    "- Possui uma **assíntota vertical**. Para $f(x) = \\log_a(x)$, a assíntota vertical é o eixo $y$, ou seja, a reta $x = 0$. O gráfico se aproxima infinitamente do eixo $y$, mas nunca o toca.\n",
    "- Sempre passa pelo ponto **(1, 0)**.\n",
    "\n",
    "A forma do gráfico é determinada pela base $a$:\n",
    "\n",
    "- Se $a > 1$: O gráfico \"sobe\" da assíntota vertical (eixo $y$) e passa pelo ponto $(1, 0)$, continuando a subir suavemente para a direita.\n",
    "- Se $0 < a < 1$: O gráfico \"desce\" da assíntota vertical (eixo $y$) e passa pelo ponto $(1, 0)$, continuando a descer suavemente para a direita.\n",
    "\n",
    "---\n",
    "\n",
    "## Aplicações no dia a dia\n",
    "\n",
    "As funções logarítmicas são frequentemente usadas em áreas onde lidamos com **escalas de magnitude** muito grandes ou onde queremos **inverter um processo de crescimento/decaimento exponencial**:\n",
    "\n",
    "| Situação                                           | Explicação                                                                 | Exemplo (Escala Logarítmica) |\n",
    "|----------------------------------------------------|-----------------------------------------------------------------------------|------------------------------|\n",
    "| **Escala Richter (Terremotos)** | Cada aumento de 1 ponto na escala significa um aumento de 10 vezes na amplitude da onda sísmica. | $\\log_{10}(A/A_0)$           |\n",
    "| **Decibéis (Intensidade Sonora)** | Usada para medir níveis de som e potência de sinais.                         | $10 \\log_{10}(I/I_0)$        |\n",
    "| **Escala pH (Acidez)** | Mede a concentração de íons de hidrogênio em uma solução.                  | $-\\log_{10}([H+])$          |\n",
    "| **Tempo em Processos Exponenciais** | Calcular o tempo necessário para algo crescer/diminuir até um certo valor.  | $\\log_a(V/C)$                |\n",
    "| **Análise de Algoritmos (Ciência da Computação)** | Descreve a eficiência de certos algoritmos (ex: busca binária).           | $O(\\log n)$                  |\n",
    "| **Percepção Humana** | Nossos sentidos (som, luz) frequentemente percebem estímulos de forma logarítmica. | Lei de Fechner-Weber         |"
   ]
  },
  {
   "cell_type": "markdown",
   "id": "ddfde9df",
   "metadata": {},
   "source": [
    "## Exemplo\n",
    "\n",
    "Um terremoto com ondas sísmicas de tamanho S tem magnitude Richter\n",
    "$$\n",
    "Magnitude = \\log(S/S_0)\n",
    "$$\n",
    "\n",
    "Em que $S_0$ é o teamanho das ondas sísmicas que correspondem ao que tem sido declarado com um terremoto com magnitude Richter $0$ (Axler, 2016, p.243)\n",
    "\n",
    "Quantas vezes um terremoto com magnitude $7$ é mais intenso que um terremoto com magnitude $5$?"
   ]
  },
  {
   "cell_type": "markdown",
   "id": "32afd90a",
   "metadata": {},
   "source": [
    "\n",
    "### $$\\log_ba = c \\quad \\iff \\quad b^c = a$$"
   ]
  },
  {
   "cell_type": "markdown",
   "id": "1ffa875b",
   "metadata": {},
   "source": [
    "$M = \\log(S/S_0)$\n",
    "\n",
    "$5 = \\log(S_5/S_0)$\n",
    "\n",
    "$\\log(S_5/S_0) = 5$\n",
    "\n",
    "$\\log_{10}(S_5/S_0) = 5$\n",
    "\n",
    "$(S_5/S_0) = 10^5$\n",
    "\n",
    "$$S_5 = 10^5 \\cdot S_0$$"
   ]
  },
  {
   "cell_type": "markdown",
   "id": "a744cb8a",
   "metadata": {},
   "source": [
    "O processo para o calculo do $7$ vai ser o mesmo\n",
    "\n",
    "$7 = \\log(S_7/S_0)$\n",
    "\n",
    "$\\log(S_7/S_0) = 7$\n",
    "\n",
    "$\\log_{10}(S_7/S_0) = 7$\n",
    "\n",
    "$(S_7/S_0) = 10^7$\n",
    "\n",
    "$$S_7 = 10^7 \\cdot S_0$$"
   ]
  },
  {
   "cell_type": "markdown",
   "id": "519d32e7",
   "metadata": {},
   "source": [
    "Agora vamos encontrar a relação entre as duas\n",
    "\n",
    "### $rel = \\frac{S_7}{S_5}  \\quad \\iff \\quad \\frac{10^7\\cdot S_0}{10^5\\cdot S_0} \\quad \\iff \\quad \\frac{10^{5+2}}{10^5} = 10^2 = 100$\n",
    "\n",
    "$$S_7 = 100 \\cdot S_5$$"
   ]
  },
  {
   "cell_type": "code",
   "execution_count": 1,
   "id": "14aedf08",
   "metadata": {},
   "outputs": [
    {
     "data": {
      "text/plain": [
       "10000000.0"
      ]
     },
     "execution_count": 1,
     "metadata": {},
     "output_type": "execute_result"
    }
   ],
   "source": [
    "s_5 = 10**5\n",
    "s_7 = 10**7\n",
    "\n",
    "rel = s_7 / s_5\n",
    "rel\n",
    "\n",
    "s_7 = rel * s_5\n",
    "s_7"
   ]
  },
  {
   "cell_type": "markdown",
   "id": "cb7e9f86",
   "metadata": {},
   "source": [
    "## (ENEM - 2018)\n",
    "\n",
    "A água comercializada em garrafões pode ser classificada como muito ácida, ácida, neutra, alcalina ou muito alcalina, dependendo de seu $pH$, dado pela expressão\n",
    "\n",
    "### $$pH = \\log_{10} \\frac{1}{H}$$\n",
    "\n",
    "em que $H$ é a concentração de íons de hidrogênio, em mol por decímetro cúbico. A classificação da água de acordo com seu $pH$ é mostrada no quadro.\n",
    "\n",
    "![Tabela](https://xequematenem.com.br/blog/wp-content/webp-express/webp-images/uploads/2024/06/image-95.png.webp)\n",
    "\n",
    "Para o cálculo da concentração $H$, uma distribuidora mede dois parâmetros $A$ e $B$, em cada fonte, e adota $H$ como sendo o quociente de $A$ por $B$. Em análise realizada em uma fonte, obteve $A = 10^{−7}$ e a água dessa fonte foi classificada como neutra. \n",
    "\n",
    "O parâmetro $B$, então, encontrava-se no intervalo\n",
    "\n",
    "![Imagem](https://xequematenem.com.br/blog/wp-content/webp-express/webp-images/uploads/2024/06/image-94.png.webp)"
   ]
  },
  {
   "cell_type": "markdown",
   "id": "a4f901c5",
   "metadata": {},
   "source": [
    "$$PH = \\log_{10} (\\frac{1}{H})$$"
   ]
  },
  {
   "cell_type": "markdown",
   "id": "1170ada4",
   "metadata": {},
   "source": [
    "$$\n",
    "H = \\frac{A}{B}  \\iff  \\frac{1}{H} = \\frac{B}{A}\n",
    "$$\n",
    "\n"
   ]
  },
  {
   "cell_type": "markdown",
   "id": "a9c38aa2",
   "metadata": {},
   "source": [
    "$$PH = \\log_{10} (\\frac{B}{A})$$"
   ]
  },
  {
   "cell_type": "markdown",
   "id": "27e061d3",
   "metadata": {},
   "source": [
    "$$6 \\le \\log_{10} (\\frac{B}{A}) < 7,5$$"
   ]
  },
  {
   "cell_type": "markdown",
   "id": "74ca017a",
   "metadata": {},
   "source": [
    "\n",
    "### $$\\log_ba = c \\quad \\iff \\quad b^c = a$$"
   ]
  },
  {
   "cell_type": "markdown",
   "id": "dc4a722a",
   "metadata": {},
   "source": [
    "$$10^6 \\le  \\frac{B}{A} < 10^{7,5}$$"
   ]
  },
  {
   "cell_type": "markdown",
   "id": "3237e05c",
   "metadata": {},
   "source": [
    "$$10^6 \\cdot A \\le  B < 10^{7,5} \\cdot A$$"
   ]
  },
  {
   "cell_type": "markdown",
   "id": "e230a832",
   "metadata": {},
   "source": [
    "Enunciado ele forneceu o valor de $A = 10^{-7}$"
   ]
  },
  {
   "cell_type": "markdown",
   "id": "1e7a0673",
   "metadata": {},
   "source": [
    "$$10^6 \\cdot 10^{-7} \\le  B < 10^{7,5} \\cdot 10^{-7}$$"
   ]
  },
  {
   "cell_type": "markdown",
   "id": "09f1a184",
   "metadata": {},
   "source": [
    "$$10^{6-7} \\le  B < 10^{-0,5}$$"
   ]
  },
  {
   "cell_type": "markdown",
   "id": "12731ed0",
   "metadata": {},
   "source": [
    "$$10^{-1} \\le  B < 10^{-0,5}$$"
   ]
  },
  {
   "cell_type": "markdown",
   "id": "440f78c2",
   "metadata": {},
   "source": [
    "$$10^{-1}, 10^{\\frac{1}{2}}$$"
   ]
  },
  {
   "cell_type": "markdown",
   "id": "9f543b7b",
   "metadata": {},
   "source": [
    "Alternativa C"
   ]
  },
  {
   "cell_type": "markdown",
   "id": "865d7c20",
   "metadata": {},
   "source": [
    "![Imagem](https://xequematenem.com.br/blog/wp-content/webp-express/webp-images/uploads/2024/06/image-94.png.webp)"
   ]
  },
  {
   "cell_type": "markdown",
   "id": "0c7897a2",
   "metadata": {},
   "source": [
    "### gráfico da função logarítmica"
   ]
  },
  {
   "cell_type": "code",
   "execution_count": 2,
   "id": "752d8d6d",
   "metadata": {},
   "outputs": [
    {
     "data": {
      "image/png": "[encoded data removed]",
      "text/plain": [
       "<Figure size 1200x600 with 1 Axes>"
      ]
     },
     "metadata": {},
     "output_type": "display_data"
    }
   ],
   "source": [
    "import numpy as np\n",
    "import matplotlib.pyplot as plt\n",
    "import seaborn as sns\n",
    "sns.set_theme()\n",
    "\n",
    "# Começamos de 0.1 para evitar o logaritmo de zero (indefinido)\n",
    "# e vamos até 10, com muitos pontos para uma curva suave (400 pontos)\n",
    "x_values = np.linspace(0.1, 10, 400)\n",
    "\n",
    "y_log10 = np.log10(x_values) # Logaritmo na base 10\n",
    "y_ln = np.log(x_values)     # Logaritmo natural (base e)\n",
    "\n",
    "plt.figure(figsize=(12, 6))\n",
    "\n",
    "sns.lineplot(x=x_values, y=y_log10, label=r'$\\log_{10}(x)$')\n",
    "sns.lineplot(x=x_values, y=y_ln, label=r'$\\ln(x)$', linestyle=\"--\")\n",
    "\n",
    "# Como a função logarítmica se aproxima do eixo Y mas nunca toca,\n",
    "# desenhamos uma linha tracejada para indicar isso.\n",
    "plt.axvline(x=0, color='gray', linestyle=':', linewidth=1.5, label='Assíntota Vertical ($x=0$)')\n",
    "\n",
    "# Adicionando o eixo X (y=0)\n",
    "plt.axhline(y=0, color='black', linewidth=0.8)\n",
    "\n",
    "# Limitando o eixo Y para melhor visualização\n",
    "plt.ylim(-3, 3) \n",
    "\n",
    "# Adicionando rótulos e título\n",
    "plt.title('Gráfico de Funções Logarítmicas', fontsize=16)\n",
    "plt.xlabel('x')\n",
    "plt.ylabel('f(x) ou g(x)')\n",
    "plt.legend()\n",
    "plt.tight_layout()\n",
    "\n",
    "# Mostrando o gráfico\n",
    "plt.show()"
   ]
  },
  {
   "cell_type": "markdown",
   "id": "5e090bc3",
   "metadata": {},
   "source": []
  }
 ],
 "metadata": {
  "kernelspec": {
   "display_name": "Python 3",
   "language": "python",
   "name": "python3"
  },
  "language_info": {
   "codemirror_mode": {
    "name": "ipython",
    "version": 3
   },
   "file_extension": ".py",
   "mimetype": "text/x-python",
   "name": "python",
   "nbconvert_exporter": "python",
   "pygments_lexer": "ipython3",
   "version": "3.13.1"
  }
 },
 "nbformat": 4,
 "nbformat_minor": 5
}
